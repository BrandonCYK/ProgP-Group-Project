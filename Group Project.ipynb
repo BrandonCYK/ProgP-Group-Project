{
 "cells": [
  {
   "cell_type": "code",
   "execution_count": 16,
   "id": "9c81103c-aa7f-403f-b287-f5376ed00cdf",
   "metadata": {},
   "outputs": [
    {
     "name": "stdout",
     "output_type": "stream",
     "text": [
      "Welcome Back to School!\n",
      "\n",
      "HOME PAGE\n",
      "[1] Add a new student\n",
      "[2] Add a new course\n",
      "[3] Enrol in a course\n",
      "[4] Drop a course\n",
      "[5] View available courses\n",
      "[6] View student information\n",
      "[Q] Exit\n"
     ]
    },
    {
     "name": "stdin",
     "output_type": "stream",
     "text": [
      "Please select your choice: 2\n"
     ]
    },
    {
     "name": "stdout",
     "output_type": "stream",
     "text": [
      "You want to add a new course!\n"
     ]
    },
    {
     "name": "stdin",
     "output_type": "stream",
     "text": [
      "Fill in the course ID: 1092\n",
      "Fill in the name of the course: SDG\n",
      "Fill in the maximum seats required for this course: 851\n"
     ]
    },
    {
     "name": "stdout",
     "output_type": "stream",
     "text": [
      "Course ID: 1092\n",
      "Course Name: SDG\n",
      "Maximum seats: 851\n",
      "\n",
      "HOME PAGE\n",
      "[1] Add a new student\n",
      "[2] Add a new course\n",
      "[3] Enrol in a course\n",
      "[4] Drop a course\n",
      "[5] View available courses\n",
      "[6] View student information\n",
      "[Q] Exit\n"
     ]
    },
    {
     "name": "stdin",
     "output_type": "stream",
     "text": [
      "Please select your choice: Q\n"
     ]
    },
    {
     "name": "stdout",
     "output_type": "stream",
     "text": [
      "Thank you! Have a nice day!\n"
     ]
    }
   ],
   "source": [
    "# Providing options for user to choose\n",
    "print(\"Welcome Back to School!\")\n",
    "while True:\n",
    "    print(\"\\nHOME PAGE\")\n",
    "    print(\"[1] Add a new student\")\n",
    "    print(\"[2] Add a new course\")\n",
    "    print(\"[3] Enrol in a course\")\n",
    "    print(\"[4] Drop a course\")\n",
    "    print(\"[5] View available courses\")\n",
    "    print(\"[6] View student information\")\n",
    "    print(\"[Q] Exit\")\n",
    "\n",
    "    # Taking in user input\n",
    "    user_choice = input(\"Please select your choice:\").strip.upper() # To capitalize the Q if a lowercase is entered\n",
    "    if user_choice == \"1\": # Allowing a student to enter their details and store it into students.txt\n",
    "        print(\"You want to register to this school!\")\n",
    "        # Taking in student details\n",
    "        student_ID = input(\"Fill in your student ID:\")\n",
    "        student_name = input(\"Fill in your name:\")\n",
    "        student_contact = input(\"Fill in your contact:\")\n",
    "        # Display student details before storing in the text file students.txt\n",
    "        print(f'Student ID: {student_ID}\\nStudent Name: {student_name}\\nStudent Contact: {student_contact}')\n",
    "\n",
    "    elif user_choice == \"2\": # Allowing a student to enter course details and store it into courses.txt\n",
    "        print(\"You want to add a new course!\")\n",
    "        # Taking in course details\n",
    "        course_ID = input(\"Fill in the course ID:\")\n",
    "        course_name = input(\"Fill in the name of the course:\")\n",
    "        while True: # Keep looping until an integer is entered\n",
    "            try:\n",
    "                course_seats = int(input(\"Fill in the maximum seats required for this course:\"))\n",
    "                break # Exit the loop once the input is an integer.\n",
    "            except ValueError:\n",
    "                print(\"Error: Invalid input. Please enter an integer.\") # Error message for non-integer values\n",
    "        # Display course details before storing in the text file courses.txt\n",
    "        print(f'Course ID: {course_ID}\\nCourse Name: {course_name}\\nMaximum seats: {course_seats}')\n",
    "\n",
    "    elif user_choice == \"3\": # Allowing a student to enrol in an existing course\n",
    "        print(\"You want to enrol in a course!\")\n",
    "        # Identifying the course that the student wants to enrol in\n",
    "        course_enrol = input(\"Which course would you like to enrol in?\")\n",
    "        # Checking validation of the course based on enrollments.txt\n",
    "        course_seats -= 1\n",
    "        print(f'You have successfully enrolled in {course_enrol}')\n",
    "\n",
    "    elif user_choice == \"4\": # Allowing a student to drop an enrolled course\n",
    "        print(\"You want to drop a course!\")\n",
    "        # Identifying the course that the student wants to enrol in\n",
    "        course_drop = input(\"Which course would you like to drop?\")\n",
    "        # Checking validation of the course based on enrollments.txt\n",
    "        course_seats += 1\n",
    "        print(f'You have successfully dropped {course_drop}')\n",
    "\n",
    "    elif user_choice == \"5\": # Allowing a student to view available courses\n",
    "        print(\"You want to view the available courses!\")\n",
    "        # Searching for the course in the text file courses.txt\n",
    "        while course_ID == True:\n",
    "        # Display all available courses and their details\n",
    "            print(f'Course ID: {course_ID}\\nCourse Name: {course_name}\\nRemaining seats: {course_seats}')\n",
    "\n",
    "    elif user_choice == \"6\": # Allowing a student to view the registered student details of the school\n",
    "        print(\"You want to view the information of registered students!\")\n",
    "        # Searching for the course in the text file courses.txt\n",
    "        while student_ID == True:\n",
    "        # Display all available courses and their details\n",
    "            print(f'Student ID: {student_ID}\\nCourse Name: {student_name}\\nStudent Contact: {student_contact}')\n",
    "\n",
    "    elif user_choice == \"Q\": # Allowing a student to exit the program\n",
    "        print(\"Thank you! Have a nice day!\")\n",
    "        break\n",
    "\n",
    "    else:\n",
    "        print(\"You've entered an invalid character. Please try again.\")"
   ]
  },
  {
   "cell_type": "code",
   "execution_count": null,
   "id": "1d995d66-3ad3-4881-a51a-58ab3260e2e6",
   "metadata": {},
   "outputs": [],
   "source": [
    " "
   ]
  },
  {
   "cell_type": "code",
   "execution_count": null,
   "id": "ceffec3a-dab0-4bf0-9c78-f0c2558a4d29",
   "metadata": {},
   "outputs": [],
   "source": []
  },
  {
   "cell_type": "code",
   "execution_count": null,
   "id": "cbe80bca-8aaa-4fd3-ba2d-2d7ef6eaa6b3",
   "metadata": {},
   "outputs": [],
   "source": []
  }
 ],
 "metadata": {
  "kernelspec": {
   "display_name": "anaconda-panel-2023.05-py310",
   "language": "python",
   "name": "conda-env-anaconda-panel-2023.05-py310-py"
  },
  "language_info": {
   "codemirror_mode": {
    "name": "ipython",
    "version": 3
   },
   "file_extension": ".py",
   "mimetype": "text/x-python",
   "name": "python",
   "nbconvert_exporter": "python",
   "pygments_lexer": "ipython3",
   "version": "3.11.5"
  }
 },
 "nbformat": 4,
 "nbformat_minor": 5
}
